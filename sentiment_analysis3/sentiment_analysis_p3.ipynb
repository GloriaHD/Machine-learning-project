{
 "cells": [
  {
   "cell_type": "markdown",
   "metadata": {},
   "source": [
    "# Sentiment Analysis P3\n",
    "\n",
    "In this notebook, you will learn how to build a deep LSTM network and how to insert a fixed pre-trained embedding layer in Keras"
   ]
  },
  {
   "cell_type": "markdown",
   "metadata": {},
   "source": [
    "<img src=\"resources/pipeline.png\" width=\"800px\">"
   ]
  },
  {
   "cell_type": "markdown",
   "metadata": {},
   "source": [
    "喜欢使用RNN的原因是因为可以保留word 的sequence"
   ]
  },
  {
   "cell_type": "code",
   "execution_count": null,
   "metadata": {},
   "outputs": [],
   "source": []
  },
  {
   "cell_type": "markdown",
   "metadata": {},
   "source": [
    "## Still Emoji"
   ]
  },
  {
   "cell_type": "code",
   "execution_count": 1,
   "metadata": {
    "code_folding": [
     0
    ]
   },
   "outputs": [],
   "source": [
    "# import \n",
    "import numpy as np\n",
    "import utils\n",
    "from tensorflow.keras.models import Model\n",
    "from tensorflow.keras.layers import Dense, Input, Dropout, LSTM, Activation, Embedding\n",
    "from tensorflow.keras.preprocessing import sequence\n",
    "\n",
    "import matplotlib.pyplot as plt\n",
    "%matplotlib inline\n",
    "%config InlineBackend.figure_format='retina'\n",
    "\n",
    "\n",
    "np.random.seed(1)"
   ]
  },
  {
   "cell_type": "code",
   "execution_count": 2,
   "metadata": {},
   "outputs": [],
   "source": [
    "train_x, test_x, train_y, test_y = utils.load_emoji()"
   ]
  },
  {
   "cell_type": "markdown",
   "metadata": {},
   "source": [
    "**Load pretrained word embeddings**\n",
    "\n",
    "2 dictionaries are loaded:\n",
    "\n",
    "- `word_to_index`: map a word to its index in the vocabulary\n",
    "    - Example:  `'word' -> 1234`\n",
    "\n",
    "- `word_to_vec_map`: map a word to its embedding\n",
    "    - Example: `'word' -> [0.1, 0.2, ..., 0.45]`\n",
    "\n",
    "When adding a custom embedding layer in Keras, we can only load the pretrained embedding as a big matrix instead of a dictionary. An index will help us locate the entry for a given word."
   ]
  },
  {
   "cell_type": "markdown",
   "metadata": {},
   "source": [
    "### Word Embeddings & One Hot"
   ]
  },
  {
   "cell_type": "code",
   "execution_count": 3,
   "metadata": {},
   "outputs": [
    {
     "name": "stdout",
     "output_type": "stream",
     "text": [
      "data already available, skip downloading.\n",
      "loading glove... this may take a while...\n",
      "glove loaded successfully.\n"
     ]
    }
   ],
   "source": [
    "word_to_index, word_to_vec_map = utils.load_glove_vecs()"
   ]
  },
  {
   "cell_type": "code",
   "execution_count": 4,
   "metadata": {},
   "outputs": [
    {
     "data": {
      "text/plain": [
       "400000"
      ]
     },
     "execution_count": 4,
     "metadata": {},
     "output_type": "execute_result"
    }
   ],
   "source": [
    "len(word_to_index)  # This is the number of pre-trained words"
   ]
  },
  {
   "cell_type": "code",
   "execution_count": 5,
   "metadata": {},
   "outputs": [],
   "source": [
    "utils.sentences_to_indices?"
   ]
  },
  {
   "cell_type": "code",
   "execution_count": 6,
   "metadata": {},
   "outputs": [
    {
     "data": {
      "text/plain": [
       "array([[185457., 222471., 193716.,      0.,      0.],\n",
       "       [185457., 174339., 193716.,      0.,      0.]])"
      ]
     },
     "execution_count": 6,
     "metadata": {},
     "output_type": "execute_result"
    }
   ],
   "source": [
    "# Convert word to the index in vocabulary\n",
    "utils.sentences_to_indices(\n",
    "    np.array([\"i like it\", \"i hate it\"]),  # array of test sentences\n",
    "    word_to_index, \n",
    "    max_len = 5) # 如果超过max_len,就需要做截断了"
   ]
  },
  {
   "cell_type": "code",
   "execution_count": 7,
   "metadata": {},
   "outputs": [
    {
     "name": "stdout",
     "output_type": "stream",
     "text": [
      "max number of words in a sentence: 10\n"
     ]
    }
   ],
   "source": [
    "maxlen = max([len(x.split()) for x in train_x])\n",
    "print('max number of words in a sentence:', maxlen)# find the max length in the training data"
   ]
  },
  {
   "cell_type": "code",
   "execution_count": 8,
   "metadata": {},
   "outputs": [],
   "source": [
    "# Convert training/testing features into index list\n",
    "train_x = utils.sentences_to_indices(train_x, word_to_index, maxlen)\n",
    "test_x = utils.sentences_to_indices(test_x, word_to_index, maxlen)\n",
    "\n",
    "# Convert training/testing labels into one hot array\n",
    "train_y = utils.convert_to_one_hot(train_y, C = 5)\n",
    "test_y = utils.convert_to_one_hot(test_y, C = 5)"
   ]
  },
  {
   "cell_type": "code",
   "execution_count": 9,
   "metadata": {},
   "outputs": [],
   "source": [
    "# Check to make sure the shape looks good\n",
    "assert train_x.shape == (132, maxlen)\n",
    "assert train_y.shape == (132, 5)"
   ]
  },
  {
   "cell_type": "markdown",
   "metadata": {},
   "source": [
    "### Embedding Layer\n",
    "\n",
    "We need to build a embedding matrix where each row represent a word vector."
   ]
  },
  {
   "cell_type": "code",
   "execution_count": 10,
   "metadata": {},
   "outputs": [],
   "source": [
    "def pretrained_embedding_layer(word_to_index, word_to_vec_map):\n",
    "    \"\"\"\n",
    "    Build and return a Keras Embedding Layer given word_to_vec mapping and word_to_index mapping\n",
    "    \n",
    "    Args:\n",
    "        word_to_index (dict[str->int]): map from a word to its index in vocabulary\n",
    "        word_to_vec_map (dict[str->np.ndarray]): map from a word to a vector with shape (N,) where N is the length of a word vector (50 in our case)\n",
    "\n",
    "    Return:\n",
    "        Keras.layers.Embedding: Embedding layer\n",
    "    \"\"\"\n",
    "    \n",
    "    # Keras requires vocab length start from index 1\n",
    "    vocab_len = len(word_to_index) + 1  # 0 是预留给 out of vocabulary 的单词\n",
    "    emb_dim = list(word_to_vec_map.values())[0].shape[0]\n",
    "    \n",
    "    # Initialize the embedding matrix as a numpy array of zeros of shape (vocab_len, dimensions of word vectors = emb_dim)\n",
    "    emb_matrix = np.zeros((vocab_len, emb_dim))\n",
    "    \n",
    "    # Set each row \"index\" of the embedding matrix to be the word vector representation of the \"index\"th word of the vocabulary\n",
    "    for word, index in word_to_index.items():\n",
    "        emb_matrix[index, :] = word_to_vec_map[word]\n",
    "\n",
    "    # Define Keras embedding layer with the correct output/input sizes, make it trainable. Use Embedding(...). Make sure to set trainable=False. \n",
    "    return Embedding(\n",
    "        input_dim=vocab_len, \n",
    "        output_dim=emb_dim, \n",
    "        trainable=False,  # Indicating this is a pre-trained embedding. False: 不希望embedding layer一起训练\n",
    "        weights=[emb_matrix])"
   ]
  },
  {
   "cell_type": "code",
   "execution_count": 11,
   "metadata": {},
   "outputs": [],
   "source": [
    "#.add(pretrained_embedding_layer(word_to_index, word_to_vec_map))#how to use"
   ]
  },
  {
   "cell_type": "markdown",
   "metadata": {},
   "source": [
    "For more information on how to define a pre-trained embedding layer in Keras, please refer to [this post](https://blog.keras.io/using-pre-trained-word-embeddings-in-a-keras-model.html)."
   ]
  },
  {
   "cell_type": "markdown",
   "metadata": {},
   "source": [
    "### Build the Model"
   ]
  },
  {
   "cell_type": "markdown",
   "metadata": {},
   "source": [
    "<img src=\"resources/deep_lstm.png\" style=\"width:700px;height:400px;\"> <br>\n",
    "<caption><center> A 2-layer LSTM sequence classifier. </center></caption>"
   ]
  },
  {
   "cell_type": "markdown",
   "metadata": {},
   "source": [
    "### 如何理解：\n",
    "- 第一层 N-N type, DROPOUT 防止overfitting\n",
    "- 第二层 是N-1 type"
   ]
  },
  {
   "cell_type": "code",
   "execution_count": 12,
   "metadata": {},
   "outputs": [],
   "source": [
    "def build_emoji_model(input_dim, word_to_index, word_to_vec_map):\n",
    "    \"\"\"\n",
    "    Build and return the Keras model\n",
    "    \n",
    "    Args:\n",
    "        input_dim: The dim of input layer\n",
    "        word_to_vec_map (dict[str->np.ndarray]): map from a word to a vector with shape (N,) where N is the length of a word vector (50 in our case)\n",
    "        word_to_index (dict[str->int]): map from a word to its index in vocabulary\n",
    "    \n",
    "    Returns:\n",
    "        Keras.models.Model: 2-layer LSTM model\n",
    "    \"\"\"\n",
    "    \n",
    "    # Input layer\n",
    "    sentence_indices = Input(shape=(input_dim,), dtype='int32')\n",
    "    \n",
    "    # Embedding layer\n",
    "    embedding_layer = pretrained_embedding_layer(word_to_index, word_to_vec_map)\n",
    "    embeddings = embedding_layer(sentence_indices)   \n",
    "    \n",
    "    # 2-layer LSTM\n",
    "    X = LSTM(128, return_sequences=True, recurrent_dropout=0.5)(embeddings)  # N->N RNN\n",
    "    X = Dropout(rate=0.8)(X)\n",
    "    X = LSTM(128, recurrent_dropout=0.5)(X)  # N -> 1 RNN\n",
    "    X = Dropout(rate=0.8)(X)\n",
    "    X = Dense(5, activation='softmax')(X)\n",
    "    \n",
    "    # Create and return model\n",
    "    model = Model(inputs=sentence_indices, outputs=X)\n",
    "    \n",
    "    return model"
   ]
  },
  {
   "cell_type": "code",
   "execution_count": 13,
   "metadata": {},
   "outputs": [
    {
     "name": "stdout",
     "output_type": "stream",
     "text": [
      "WARNING:tensorflow:Large dropout rate: 0.8 (>0.5). In TensorFlow 2.x, dropout() uses dropout rate instead of keep_prob. Please ensure that this is intended.\n",
      "WARNING:tensorflow:Large dropout rate: 0.8 (>0.5). In TensorFlow 2.x, dropout() uses dropout rate instead of keep_prob. Please ensure that this is intended.\n",
      "Model: \"model\"\n",
      "_________________________________________________________________\n",
      "Layer (type)                 Output Shape              Param #   \n",
      "=================================================================\n",
      "input_1 (InputLayer)         [(None, 10)]              0         \n",
      "_________________________________________________________________\n",
      "embedding (Embedding)        (None, 10, 50)            20000050  \n",
      "_________________________________________________________________\n",
      "lstm (LSTM)                  (None, 10, 128)           91648     \n",
      "_________________________________________________________________\n",
      "dropout (Dropout)            (None, 10, 128)           0         \n",
      "_________________________________________________________________\n",
      "lstm_1 (LSTM)                (None, 128)               131584    \n",
      "_________________________________________________________________\n",
      "dropout_1 (Dropout)          (None, 128)               0         \n",
      "_________________________________________________________________\n",
      "dense (Dense)                (None, 5)                 645       \n",
      "=================================================================\n",
      "Total params: 20,223,927\n",
      "Trainable params: 223,877\n",
      "Non-trainable params: 20,000,050\n",
      "_________________________________________________________________\n"
     ]
    }
   ],
   "source": [
    "emoji_model = build_emoji_model(\n",
    "    maxlen, \n",
    "    word_to_index, \n",
    "    word_to_vec_map)\n",
    "\n",
    "emoji_model.summary()"
   ]
  },
  {
   "cell_type": "markdown",
   "metadata": {},
   "source": [
    "non trainable params:因为我已经将embeding layer 固定下来了"
   ]
  },
  {
   "cell_type": "code",
   "execution_count": 14,
   "metadata": {},
   "outputs": [],
   "source": [
    "emoji_model.compile(\n",
    "    loss='categorical_crossentropy', \n",
    "    optimizer='adam', \n",
    "    metrics=['accuracy'])"
   ]
  },
  {
   "cell_type": "code",
   "execution_count": 15,
   "metadata": {},
   "outputs": [
    {
     "name": "stdout",
     "output_type": "stream",
     "text": [
      "Train on 132 samples, validate on 56 samples\n",
      "Epoch 1/100\n",
      "WARNING:tensorflow:Large dropout rate: 0.8 (>0.5). In TensorFlow 2.x, dropout() uses dropout rate instead of keep_prob. Please ensure that this is intended.\n",
      "WARNING:tensorflow:Large dropout rate: 0.8 (>0.5). In TensorFlow 2.x, dropout() uses dropout rate instead of keep_prob. Please ensure that this is intended.\n",
      "WARNING:tensorflow:Large dropout rate: 0.8 (>0.5). In TensorFlow 2.x, dropout() uses dropout rate instead of keep_prob. Please ensure that this is intended.\n",
      "132/132 [==============================] - 3s 26ms/sample - loss: 1.6145 - accuracy: 0.2424 - val_loss: 1.5685 - val_accuracy: 0.3214\n",
      "Epoch 2/100\n",
      "132/132 [==============================] - 1s 4ms/sample - loss: 1.5877 - accuracy: 0.2727 - val_loss: 1.5325 - val_accuracy: 0.4286\n",
      "Epoch 3/100\n",
      "132/132 [==============================] - 1s 4ms/sample - loss: 1.5540 - accuracy: 0.3106 - val_loss: 1.5110 - val_accuracy: 0.3929\n",
      "Epoch 4/100\n",
      "132/132 [==============================] - 1s 4ms/sample - loss: 1.5597 - accuracy: 0.3182 - val_loss: 1.4994 - val_accuracy: 0.4821\n",
      "Epoch 5/100\n",
      "132/132 [==============================] - 1s 4ms/sample - loss: 1.5181 - accuracy: 0.3333 - val_loss: 1.4873 - val_accuracy: 0.3214\n",
      "Epoch 6/100\n",
      "132/132 [==============================] - 1s 4ms/sample - loss: 1.5041 - accuracy: 0.2803 - val_loss: 1.4734 - val_accuracy: 0.3214\n",
      "Epoch 7/100\n",
      "132/132 [==============================] - 1s 4ms/sample - loss: 1.5234 - accuracy: 0.3636 - val_loss: 1.4512 - val_accuracy: 0.3393\n",
      "Epoch 8/100\n",
      "132/132 [==============================] - 0s 4ms/sample - loss: 1.4018 - accuracy: 0.4167 - val_loss: 1.4183 - val_accuracy: 0.4286\n",
      "Epoch 9/100\n",
      "132/132 [==============================] - 1s 4ms/sample - loss: 1.3792 - accuracy: 0.5000 - val_loss: 1.3793 - val_accuracy: 0.5357\n",
      "Epoch 10/100\n",
      "132/132 [==============================] - 1s 4ms/sample - loss: 1.3659 - accuracy: 0.4015 - val_loss: 1.3342 - val_accuracy: 0.5179\n",
      "Epoch 11/100\n",
      "132/132 [==============================] - 1s 4ms/sample - loss: 1.3031 - accuracy: 0.5076 - val_loss: 1.2778 - val_accuracy: 0.5893\n",
      "Epoch 12/100\n",
      "132/132 [==============================] - 1s 4ms/sample - loss: 1.2906 - accuracy: 0.4394 - val_loss: 1.2286 - val_accuracy: 0.5893\n",
      "Epoch 13/100\n",
      "132/132 [==============================] - 0s 4ms/sample - loss: 1.1990 - accuracy: 0.5455 - val_loss: 1.1622 - val_accuracy: 0.6250\n",
      "Epoch 14/100\n",
      "132/132 [==============================] - 1s 4ms/sample - loss: 1.1363 - accuracy: 0.5455 - val_loss: 1.1044 - val_accuracy: 0.6607\n",
      "Epoch 15/100\n",
      "132/132 [==============================] - 0s 4ms/sample - loss: 1.1470 - accuracy: 0.5303 - val_loss: 1.0618 - val_accuracy: 0.6429\n",
      "Epoch 16/100\n",
      "132/132 [==============================] - 1s 4ms/sample - loss: 1.0916 - accuracy: 0.6061 - val_loss: 1.0673 - val_accuracy: 0.6071\n",
      "Epoch 17/100\n",
      "132/132 [==============================] - 0s 4ms/sample - loss: 1.0406 - accuracy: 0.6212 - val_loss: 0.9892 - val_accuracy: 0.6607\n",
      "Epoch 18/100\n",
      "132/132 [==============================] - 0s 4ms/sample - loss: 1.0146 - accuracy: 0.6212 - val_loss: 0.9434 - val_accuracy: 0.6786\n",
      "Epoch 19/100\n",
      "132/132 [==============================] - 0s 4ms/sample - loss: 0.9852 - accuracy: 0.6061 - val_loss: 0.8944 - val_accuracy: 0.6607\n",
      "Epoch 20/100\n",
      "132/132 [==============================] - 0s 4ms/sample - loss: 0.8443 - accuracy: 0.6970 - val_loss: 0.9070 - val_accuracy: 0.6250\n",
      "Epoch 21/100\n",
      "132/132 [==============================] - 1s 4ms/sample - loss: 0.9620 - accuracy: 0.6212 - val_loss: 0.9025 - val_accuracy: 0.6964\n",
      "Epoch 22/100\n",
      "132/132 [==============================] - 0s 4ms/sample - loss: 0.9683 - accuracy: 0.5758 - val_loss: 0.8036 - val_accuracy: 0.7321\n",
      "Epoch 23/100\n",
      "132/132 [==============================] - 0s 4ms/sample - loss: 0.7827 - accuracy: 0.7197 - val_loss: 0.7955 - val_accuracy: 0.7321\n",
      "Epoch 24/100\n",
      "132/132 [==============================] - 0s 4ms/sample - loss: 0.7731 - accuracy: 0.6742 - val_loss: 0.7080 - val_accuracy: 0.6964\n",
      "Epoch 25/100\n",
      "132/132 [==============================] - 0s 4ms/sample - loss: 0.8405 - accuracy: 0.6591 - val_loss: 0.6676 - val_accuracy: 0.7679\n",
      "Epoch 26/100\n",
      "132/132 [==============================] - 0s 4ms/sample - loss: 0.7144 - accuracy: 0.7727 - val_loss: 0.6605 - val_accuracy: 0.8214\n",
      "Epoch 27/100\n",
      "132/132 [==============================] - 0s 4ms/sample - loss: 0.6821 - accuracy: 0.6818 - val_loss: 0.6611 - val_accuracy: 0.7857\n",
      "Epoch 28/100\n",
      "132/132 [==============================] - 0s 4ms/sample - loss: 0.6134 - accuracy: 0.7424 - val_loss: 0.6367 - val_accuracy: 0.7143\n",
      "Epoch 29/100\n",
      "132/132 [==============================] - 1s 4ms/sample - loss: 0.7217 - accuracy: 0.7879 - val_loss: 0.6439 - val_accuracy: 0.7500\n",
      "Epoch 30/100\n",
      "132/132 [==============================] - 1s 4ms/sample - loss: 0.7182 - accuracy: 0.7955 - val_loss: 0.7372 - val_accuracy: 0.7321\n",
      "Epoch 31/100\n",
      "132/132 [==============================] - 0s 4ms/sample - loss: 0.7493 - accuracy: 0.7121 - val_loss: 0.5967 - val_accuracy: 0.7679\n",
      "Epoch 32/100\n",
      "132/132 [==============================] - 0s 4ms/sample - loss: 0.6436 - accuracy: 0.7955 - val_loss: 0.6041 - val_accuracy: 0.7679\n",
      "Epoch 33/100\n",
      "132/132 [==============================] - 0s 4ms/sample - loss: 0.5871 - accuracy: 0.7955 - val_loss: 0.6056 - val_accuracy: 0.7857\n",
      "Epoch 34/100\n",
      "132/132 [==============================] - 1s 4ms/sample - loss: 0.5225 - accuracy: 0.8485 - val_loss: 0.5933 - val_accuracy: 0.8036\n",
      "Epoch 35/100\n",
      "132/132 [==============================] - 1s 4ms/sample - loss: 0.6355 - accuracy: 0.7652 - val_loss: 0.6174 - val_accuracy: 0.7857\n",
      "Epoch 36/100\n",
      "132/132 [==============================] - 0s 4ms/sample - loss: 0.5490 - accuracy: 0.7879 - val_loss: 0.5286 - val_accuracy: 0.8036\n",
      "Epoch 37/100\n",
      "132/132 [==============================] - 1s 4ms/sample - loss: 0.5097 - accuracy: 0.8258 - val_loss: 0.5022 - val_accuracy: 0.8036\n",
      "Epoch 38/100\n",
      "132/132 [==============================] - 1s 4ms/sample - loss: 0.4229 - accuracy: 0.8788 - val_loss: 0.5276 - val_accuracy: 0.7857\n",
      "Epoch 39/100\n",
      "132/132 [==============================] - 0s 4ms/sample - loss: 0.4736 - accuracy: 0.8409 - val_loss: 0.6084 - val_accuracy: 0.7500\n",
      "Epoch 40/100\n",
      "132/132 [==============================] - 0s 4ms/sample - loss: 0.4344 - accuracy: 0.8636 - val_loss: 0.5407 - val_accuracy: 0.7679\n",
      "Epoch 41/100\n",
      "132/132 [==============================] - 1s 4ms/sample - loss: 0.6245 - accuracy: 0.7652 - val_loss: 0.8422 - val_accuracy: 0.6964\n",
      "Epoch 42/100\n",
      "132/132 [==============================] - 1s 4ms/sample - loss: 0.6839 - accuracy: 0.7652 - val_loss: 0.6405 - val_accuracy: 0.7500\n",
      "Epoch 43/100\n",
      "132/132 [==============================] - 1s 4ms/sample - loss: 0.4278 - accuracy: 0.8409 - val_loss: 0.4699 - val_accuracy: 0.8214\n",
      "Epoch 44/100\n",
      "132/132 [==============================] - 1s 4ms/sample - loss: 0.4543 - accuracy: 0.8561 - val_loss: 0.6005 - val_accuracy: 0.7679\n",
      "Epoch 45/100\n",
      "132/132 [==============================] - 1s 4ms/sample - loss: 0.4479 - accuracy: 0.8333 - val_loss: 0.3788 - val_accuracy: 0.8571\n",
      "Epoch 46/100\n",
      "132/132 [==============================] - 1s 4ms/sample - loss: 0.4763 - accuracy: 0.8561 - val_loss: 0.4832 - val_accuracy: 0.8571\n",
      "Epoch 47/100\n",
      "132/132 [==============================] - 1s 4ms/sample - loss: 0.5066 - accuracy: 0.8258 - val_loss: 0.7386 - val_accuracy: 0.7500\n",
      "Epoch 48/100\n",
      "132/132 [==============================] - 1s 4ms/sample - loss: 0.5909 - accuracy: 0.8182 - val_loss: 0.6216 - val_accuracy: 0.8214\n",
      "Epoch 49/100\n",
      "132/132 [==============================] - 1s 4ms/sample - loss: 0.4372 - accuracy: 0.8333 - val_loss: 0.3327 - val_accuracy: 0.8750\n",
      "Epoch 50/100\n",
      "132/132 [==============================] - 1s 4ms/sample - loss: 0.5192 - accuracy: 0.8258 - val_loss: 0.4330 - val_accuracy: 0.8214\n",
      "Epoch 51/100\n",
      "132/132 [==============================] - 1s 4ms/sample - loss: 0.5231 - accuracy: 0.8182 - val_loss: 0.3785 - val_accuracy: 0.8393\n",
      "Epoch 52/100\n",
      "132/132 [==============================] - 0s 4ms/sample - loss: 0.4142 - accuracy: 0.9091 - val_loss: 0.4603 - val_accuracy: 0.8750\n",
      "Epoch 53/100\n"
     ]
    },
    {
     "name": "stdout",
     "output_type": "stream",
     "text": [
      "132/132 [==============================] - 0s 4ms/sample - loss: 0.3585 - accuracy: 0.8636 - val_loss: 0.5070 - val_accuracy: 0.8393\n",
      "Epoch 54/100\n",
      "132/132 [==============================] - 0s 4ms/sample - loss: 0.3806 - accuracy: 0.8864 - val_loss: 0.3984 - val_accuracy: 0.8571\n",
      "Epoch 55/100\n",
      "132/132 [==============================] - 0s 4ms/sample - loss: 0.3476 - accuracy: 0.8939 - val_loss: 0.3091 - val_accuracy: 0.8750\n",
      "Epoch 56/100\n",
      "132/132 [==============================] - 0s 4ms/sample - loss: 0.3181 - accuracy: 0.9318 - val_loss: 0.2678 - val_accuracy: 0.8929\n",
      "Epoch 57/100\n",
      "132/132 [==============================] - 1s 4ms/sample - loss: 0.3799 - accuracy: 0.8636 - val_loss: 0.2809 - val_accuracy: 0.8750\n",
      "Epoch 58/100\n",
      "132/132 [==============================] - 0s 4ms/sample - loss: 0.3001 - accuracy: 0.9167 - val_loss: 0.4058 - val_accuracy: 0.8571\n",
      "Epoch 59/100\n",
      "132/132 [==============================] - 0s 4ms/sample - loss: 0.3059 - accuracy: 0.9015 - val_loss: 0.3470 - val_accuracy: 0.8571\n",
      "Epoch 60/100\n",
      "132/132 [==============================] - 1s 4ms/sample - loss: 0.2831 - accuracy: 0.8788 - val_loss: 0.2864 - val_accuracy: 0.8571\n",
      "Epoch 61/100\n",
      "132/132 [==============================] - 0s 4ms/sample - loss: 0.2383 - accuracy: 0.9242 - val_loss: 0.3087 - val_accuracy: 0.8750\n",
      "Epoch 62/100\n",
      "132/132 [==============================] - 0s 4ms/sample - loss: 0.2838 - accuracy: 0.9091 - val_loss: 0.4102 - val_accuracy: 0.8393\n",
      "Epoch 63/100\n",
      "132/132 [==============================] - 0s 4ms/sample - loss: 0.2135 - accuracy: 0.9621 - val_loss: 0.5168 - val_accuracy: 0.8393\n",
      "Epoch 64/100\n",
      "132/132 [==============================] - 0s 4ms/sample - loss: 0.2535 - accuracy: 0.8788 - val_loss: 0.3983 - val_accuracy: 0.8571\n",
      "Epoch 65/100\n",
      "132/132 [==============================] - 0s 4ms/sample - loss: 0.2221 - accuracy: 0.9470 - val_loss: 0.2424 - val_accuracy: 0.8750\n",
      "Epoch 66/100\n",
      "132/132 [==============================] - 0s 4ms/sample - loss: 0.2093 - accuracy: 0.9394 - val_loss: 0.2682 - val_accuracy: 0.8750\n",
      "Epoch 67/100\n",
      "132/132 [==============================] - 0s 4ms/sample - loss: 0.3149 - accuracy: 0.8788 - val_loss: 0.2823 - val_accuracy: 0.9107\n",
      "Epoch 68/100\n",
      "132/132 [==============================] - 0s 4ms/sample - loss: 0.1769 - accuracy: 0.9394 - val_loss: 0.5193 - val_accuracy: 0.8393\n",
      "Epoch 69/100\n",
      "132/132 [==============================] - 0s 4ms/sample - loss: 0.2326 - accuracy: 0.9167 - val_loss: 0.5034 - val_accuracy: 0.8571\n",
      "Epoch 70/100\n",
      "132/132 [==============================] - 0s 4ms/sample - loss: 0.1866 - accuracy: 0.9242 - val_loss: 0.3609 - val_accuracy: 0.8571\n",
      "Epoch 71/100\n",
      "132/132 [==============================] - 0s 4ms/sample - loss: 0.1912 - accuracy: 0.9318 - val_loss: 0.3360 - val_accuracy: 0.8750\n",
      "Epoch 72/100\n",
      "132/132 [==============================] - 0s 4ms/sample - loss: 0.1305 - accuracy: 0.9545 - val_loss: 0.4291 - val_accuracy: 0.8571\n",
      "Epoch 73/100\n",
      "132/132 [==============================] - 1s 4ms/sample - loss: 0.1929 - accuracy: 0.9394 - val_loss: 0.6618 - val_accuracy: 0.8214\n",
      "Epoch 74/100\n",
      "132/132 [==============================] - 1s 4ms/sample - loss: 0.2559 - accuracy: 0.9091 - val_loss: 0.4895 - val_accuracy: 0.8393\n",
      "Epoch 75/100\n",
      "132/132 [==============================] - 1s 4ms/sample - loss: 0.3093 - accuracy: 0.8788 - val_loss: 0.4255 - val_accuracy: 0.8036\n",
      "Epoch 76/100\n",
      "132/132 [==============================] - 0s 4ms/sample - loss: 0.3427 - accuracy: 0.9015 - val_loss: 0.2993 - val_accuracy: 0.9107\n",
      "Epoch 77/100\n",
      "132/132 [==============================] - 0s 4ms/sample - loss: 0.2749 - accuracy: 0.9091 - val_loss: 0.6079 - val_accuracy: 0.8214\n",
      "Epoch 78/100\n",
      "132/132 [==============================] - 0s 4ms/sample - loss: 0.3410 - accuracy: 0.8864 - val_loss: 0.6078 - val_accuracy: 0.8214\n",
      "Epoch 79/100\n",
      "132/132 [==============================] - 0s 4ms/sample - loss: 0.3582 - accuracy: 0.9167 - val_loss: 0.4827 - val_accuracy: 0.8393\n",
      "Epoch 80/100\n",
      "132/132 [==============================] - 0s 4ms/sample - loss: 0.1719 - accuracy: 0.9545 - val_loss: 0.4002 - val_accuracy: 0.8571\n",
      "Epoch 81/100\n",
      "132/132 [==============================] - 0s 4ms/sample - loss: 0.1793 - accuracy: 0.9394 - val_loss: 0.4807 - val_accuracy: 0.8571\n",
      "Epoch 82/100\n",
      "132/132 [==============================] - 0s 4ms/sample - loss: 0.2094 - accuracy: 0.9470 - val_loss: 0.4533 - val_accuracy: 0.8571\n",
      "Epoch 83/100\n",
      "132/132 [==============================] - 0s 4ms/sample - loss: 0.1935 - accuracy: 0.9318 - val_loss: 0.3496 - val_accuracy: 0.8750\n",
      "Epoch 84/100\n",
      "132/132 [==============================] - 0s 4ms/sample - loss: 0.1768 - accuracy: 0.9545 - val_loss: 0.4754 - val_accuracy: 0.8571\n",
      "Epoch 85/100\n",
      "132/132 [==============================] - 0s 4ms/sample - loss: 0.2021 - accuracy: 0.9318 - val_loss: 0.6009 - val_accuracy: 0.8214\n",
      "Epoch 86/100\n",
      "132/132 [==============================] - 0s 4ms/sample - loss: 0.2132 - accuracy: 0.9318 - val_loss: 0.5237 - val_accuracy: 0.8393\n",
      "Epoch 87/100\n",
      "132/132 [==============================] - 1s 4ms/sample - loss: 0.1806 - accuracy: 0.9167 - val_loss: 0.8098 - val_accuracy: 0.8393\n",
      "Epoch 88/100\n",
      "132/132 [==============================] - 0s 4ms/sample - loss: 0.2649 - accuracy: 0.9167 - val_loss: 0.6898 - val_accuracy: 0.8036\n",
      "Epoch 89/100\n",
      "132/132 [==============================] - 0s 4ms/sample - loss: 0.2462 - accuracy: 0.9091 - val_loss: 0.4177 - val_accuracy: 0.8571\n",
      "Epoch 90/100\n",
      "132/132 [==============================] - 0s 4ms/sample - loss: 0.2006 - accuracy: 0.9242 - val_loss: 0.3813 - val_accuracy: 0.8750\n",
      "Epoch 91/100\n",
      "132/132 [==============================] - 0s 4ms/sample - loss: 0.1887 - accuracy: 0.9318 - val_loss: 0.2141 - val_accuracy: 0.8929\n",
      "Epoch 92/100\n",
      "132/132 [==============================] - 0s 4ms/sample - loss: 0.2478 - accuracy: 0.9167 - val_loss: 0.2055 - val_accuracy: 0.8929\n",
      "Epoch 93/100\n",
      "132/132 [==============================] - 0s 4ms/sample - loss: 0.1819 - accuracy: 0.9318 - val_loss: 0.4137 - val_accuracy: 0.8393\n",
      "Epoch 94/100\n",
      "132/132 [==============================] - 0s 4ms/sample - loss: 0.1457 - accuracy: 0.9318 - val_loss: 0.5594 - val_accuracy: 0.8393\n",
      "Epoch 95/100\n",
      "132/132 [==============================] - 0s 4ms/sample - loss: 0.1311 - accuracy: 0.9545 - val_loss: 0.4410 - val_accuracy: 0.8571\n",
      "Epoch 96/100\n",
      "132/132 [==============================] - 0s 4ms/sample - loss: 0.1463 - accuracy: 0.9470 - val_loss: 0.2283 - val_accuracy: 0.8750\n",
      "Epoch 97/100\n",
      "132/132 [==============================] - 0s 4ms/sample - loss: 0.1867 - accuracy: 0.9242 - val_loss: 0.2726 - val_accuracy: 0.8571\n",
      "Epoch 98/100\n",
      "132/132 [==============================] - 0s 4ms/sample - loss: 0.0971 - accuracy: 0.9697 - val_loss: 0.4217 - val_accuracy: 0.8571\n",
      "Epoch 99/100\n",
      "132/132 [==============================] - 0s 4ms/sample - loss: 0.1435 - accuracy: 0.9394 - val_loss: 0.5897 - val_accuracy: 0.8036\n",
      "Epoch 100/100\n",
      "132/132 [==============================] - 0s 4ms/sample - loss: 0.1525 - accuracy: 0.9470 - val_loss: 0.5892 - val_accuracy: 0.8214\n"
     ]
    }
   ],
   "source": [
    "history = emoji_model.fit(\n",
    "    train_x, \n",
    "    train_y, \n",
    "    epochs = 100,  \n",
    "    shuffle=True,\n",
    "    validation_data=[test_x, test_y]\n",
    ")"
   ]
  },
  {
   "cell_type": "code",
   "execution_count": 16,
   "metadata": {},
   "outputs": [
    {
     "data": {
      "image/png": "[encoded data removed]",
      "text/plain": [
       "<Figure size 432x288 with 1 Axes>"
      ]
     },
     "metadata": {
      "image/png": {
       "height": 248,
       "width": 372
      },
      "needs_background": "light"
     },
     "output_type": "display_data"
    }
   ],
   "source": [
    "utils.plot_history(history, ['loss', 'val_loss'])"
   ]
  },
  {
   "cell_type": "markdown",
   "metadata": {},
   "source": [
    "在0.4 之后再训练会出现overfitting的问题"
   ]
  },
  {
   "cell_type": "code",
   "execution_count": 28,
   "metadata": {},
   "outputs": [
    {
     "data": {
      "image/png": "[encoded data removed]",
      "text/plain": [
       "<Figure size 432x288 with 1 Axes>"
      ]
     },
     "metadata": {
      "image/png": {
       "height": 250,
       "width": 372
      },
      "needs_background": "light"
     },
     "output_type": "display_data"
    }
   ],
   "source": [
    "utils.plot_history(history, ['accuracy', 'val_accuracy'])"
   ]
  },
  {
   "cell_type": "code",
   "execution_count": 18,
   "metadata": {},
   "outputs": [
    {
     "name": "stdout",
     "output_type": "stream",
     "text": [
      "132/1 [========================================================================================================================================================================================================================================================================================================================================================================================================================================================================================================================================================================================================================================================================================================================================================================================================================================================================================================================================================================================================================================================================================================================================================================================================================================================================================================================================================================================================================================================================================================================================================================================================================================================================================================================================================================================================================================================================================================================================================================================================================================================================================================================================================================================================================================================================================================================================================================================================================================================================================================================================================================================================================================================================================================================================================================================================================================================================================================================================================================================================================================================================================================================================================================================================================================================================================================================================================================================================================================================================================================================================================================================================================================================================================================================================================================================================================================================================================================================================================================================================================================================================================================================] - 0s 3ms/sample - loss: 0.0259 - accuracy: 0.9848\n",
      "56/1 [================================================================================================================================================================================================================================================================================================================================================================================================================================================================================================================================================================================================================================================================================================================================================================================================================================================================================================================================================================================================================================================================================================================================================================================================================================================================================================================================================================================================================================================================================================================================================================================================================================================================================================================================================] - 0s 2ms/sample - loss: 0.4282 - accuracy: 0.8214\n"
     ]
    },
    {
     "data": {
      "text/plain": [
       "[0.589246677500861, 0.8214286]"
      ]
     },
     "execution_count": 18,
     "metadata": {},
     "output_type": "execute_result"
    }
   ],
   "source": [
    "emoji_model.evaluate(train_x, train_y)\n",
    "emoji_model.evaluate(test_x, test_y)"
   ]
  },
  {
   "cell_type": "markdown",
   "metadata": {},
   "source": [
    "### Sava and Load Models"
   ]
  },
  {
   "cell_type": "code",
   "execution_count": 19,
   "metadata": {},
   "outputs": [],
   "source": [
    "# import\n",
    "import h5py"
   ]
  },
  {
   "cell_type": "markdown",
   "metadata": {},
   "source": [
    "Two parts need to be saved inorder to use the model in prod:\n",
    "\n",
    "1. Neural Network Structure (json)\n",
    "2. Trained Weights (Matrix) (h5)\n",
    "\n",
    "We will save them separately. This makes it easy to manage multiple versions of weights and you can always choose which version to go for production."
   ]
  },
  {
   "cell_type": "code",
   "execution_count": 20,
   "metadata": {},
   "outputs": [],
   "source": [
    "import os\n",
    "\n",
    "model_root = 'resources/emoji_model'\n",
    "os.makedirs(model_root, exist_ok=True)"
   ]
  },
  {
   "cell_type": "code",
   "execution_count": 21,
   "metadata": {},
   "outputs": [],
   "source": [
    "# Save model structure as json\n",
    "with open(os.path.join(model_root, \"network.json\"), \"w\") as fp:\n",
    "    fp.write(emoji_model.to_json())\n",
    "\n",
    "# Save model weights\n",
    "emoji_model.save_weights(os.path.join(model_root, \"weights.h5\"))"
   ]
  },
  {
   "cell_type": "markdown",
   "metadata": {},
   "source": [
    "Download and load a pretrained model "
   ]
  },
  {
   "cell_type": "code",
   "execution_count": 22,
   "metadata": {},
   "outputs": [
    {
     "name": "stdout",
     "output_type": "stream",
     "text": [
      "data already available, skip downloading.\n"
     ]
    }
   ],
   "source": [
    "network_path, weights_path = utils.download_best_emoji_model()"
   ]
  },
  {
   "cell_type": "code",
   "execution_count": 23,
   "metadata": {},
   "outputs": [],
   "source": [
    "from tensorflow.keras.models import model_from_json\n",
    "\n",
    "# Load model structure\n",
    "with open(network_path, \"r\") as fp:\n",
    "    emoji_model_best = model_from_json(fp.read())\n",
    "\n",
    "# Load model weights\n",
    "emoji_model_best.load_weights(weights_path)"
   ]
  },
  {
   "cell_type": "code",
   "execution_count": 24,
   "metadata": {},
   "outputs": [],
   "source": [
    "emoji_model_best.compile(\n",
    "    loss='binary_crossentropy', \n",
    "    optimizer='adam', \n",
    "    metrics=['accuracy'])"
   ]
  },
  {
   "cell_type": "code",
   "execution_count": 25,
   "metadata": {},
   "outputs": [
    {
     "name": "stdout",
     "output_type": "stream",
     "text": [
      "132/1 [========================================================================================================================================================================================================================================================================================================================================================================================================================================================================================================================================================================================================================================================================================================================================================================================================================================================================================================================================================================================================================================================================================================================================================================================================================================================================================================================================================================================================================================================================================================================================================================================================================================================================================================================================================================================================================================================================================================================================================================================================================================================================================================================================================================================================================================================================================================================================================================================================================================================================================================================================================================================================================================================================================================================================================================================================================================================================================================================================================================================================================================================================================================================================================================================================================================================================================================================================================================================================================================================================================================================================================================================================================================================================================================================================================================================================================================================================================================================================================================================================================================================================================================================] - 1s 7ms/sample - loss: 1.3784e-04 - accuracy: 1.0000\n",
      "56/1 [================================================================================================================================================================================================================================================================================================================================================================================================================================================================================================================================================================================================================================================================================================================================================================================================================================================================================================================================================================================================================================================================================================================================================================================================================================================================================================================================================================================================================================================================================================================================================================================================================================================================================================================================================] - 0s 2ms/sample - loss: 0.1895 - accuracy: 0.9286\n"
     ]
    },
    {
     "data": {
      "text/plain": [
       "[0.28151012850659235, 0.9285714]"
      ]
     },
     "execution_count": 25,
     "metadata": {},
     "output_type": "execute_result"
    }
   ],
   "source": [
    "emoji_model_best.evaluate(train_x, train_y)\n",
    "emoji_model_best.evaluate(test_x, test_y)"
   ]
  },
  {
   "cell_type": "code",
   "execution_count": 26,
   "metadata": {},
   "outputs": [],
   "source": [
    "def predict(text):\n",
    "    x = utils.sentences_to_indices(\n",
    "        np.array([text]), \n",
    "        word_to_index, \n",
    "        maxlen)\n",
    "    \n",
    "    probs = emoji_model_best.predict(x)\n",
    "    pred = np.argmax(probs)\n",
    "    \n",
    "    print(text, utils.label_to_emoji(pred))"
   ]
  },
  {
   "cell_type": "code",
   "execution_count": 27,
   "metadata": {},
   "outputs": [
    {
     "name": "stdout",
     "output_type": "stream",
     "text": [
      "i am not feeling happy 😞\n"
     ]
    }
   ],
   "source": [
    "predict('i am not feeling happy') #可以处理单词出现顺序非常重要的情况"
   ]
  },
  {
   "cell_type": "markdown",
   "metadata": {},
   "source": [
    "## Mission Impossible\n",
    "\n",
    "<img src=\"resources/imf.png\" width=\"100px\">\n",
    "\n",
    "Now you've learned all the necessary building blocks for doing sentiment analysis, from the data preprocessing pipeline, the simple NB model, to the SOTA deep LSTM network. Now it's time for you to take a challenge!\n",
    "\n",
    "\n",
    "Your mission, should you choose to accept it, is to apply what we've learned and apply it to the IMDB dataset. You may write your own script for doing preprocessing, choose any models you like. You may also use any types of word embeddings (`Word2Vec`, `Spacy`, `FastText`), or even character level embeddings! Only the sky is the limit.\n",
    "\n",
    "The challenge is simple, **boost the accuracy on test dataset to above 90%**, which is 7% higher than our baseline model (MNB). If you make it, it will be a pretty strong indicator to prove that you've understand the data and the pipeline well, knowing where the bottleneck is and how to overcome it. \n",
    "\n",
    "As always, should you or any of your IM Force be caught or killed, the Secretary will disavow any knowledge of your actions. This notebook will self-destruct in five minutes. Good luck.\n",
    "\n",
    "5, 4, 3, 2, 1... No it will not self-destruct, I'm just kidding 😛\n",
    "\n",
    "### Some hints:\n",
    "\n",
    "1. Think about what information are missing during preprocessing. (e.g.: checkout `stopwords`)\n",
    "2. Should we limit the vocabulary even if we're using embedding?\n",
    "3. If so, how should we handle OOV word?\n",
    "4. How to choose the number of layers and number of units for LSTM?\n",
    "5. Need GPU? Colab or FloydHub is your friend! (Though I don't think it will make a real difference on NLP tasks.)\n",
    "\n",
    "> Please try your best as practice is the only way to understand something. But don't worry too much, I'll post my solution in a week :) "
   ]
  },
  {
   "cell_type": "code",
   "execution_count": null,
   "metadata": {},
   "outputs": [],
   "source": []
  },
  {
   "cell_type": "code",
   "execution_count": null,
   "metadata": {},
   "outputs": [],
   "source": []
  }
 ],
 "metadata": {
  "kernelspec": {
   "display_name": "Python 3",
   "language": "python",
   "name": "python3"
  },
  "language_info": {
   "codemirror_mode": {
    "name": "ipython",
    "version": 3
   },
   "file_extension": ".py",
   "mimetype": "text/x-python",
   "name": "python",
   "nbconvert_exporter": "python",
   "pygments_lexer": "ipython3",
   "version": "3.7.4"
  }
 },
 "nbformat": 4,
 "nbformat_minor": 2
}
