{
 "cells": [
  {
   "cell_type": "markdown",
   "metadata": {},
   "source": [
    "In this notebook, use different packages in Python to build a complete pipeline for solving sentiment analysis problem. Then use the simplest model, Mutinomial NB."
   ]
  },
  {
   "cell_type": "markdown",
   "metadata": {},
   "source": [
    "## Pipeline"
   ]
  },
  {
   "cell_type": "markdown",
   "metadata": {},
   "source": [
    "<img src=\"resources/pipeline.png\">"
   ]
  },
  {
   "cell_type": "markdown",
   "metadata": {},
   "source": [
    "## Get familiar with dataset"
   ]
  },
  {
   "cell_type": "code",
   "execution_count": 1,
   "metadata": {},
   "outputs": [],
   "source": [
    "import pandas as pd\n",
    "\n",
    "pd.set_option('max_colwidth', 500)  # Set display column width to show more "
   ]
  },
  {
   "cell_type": "code",
   "execution_count": 2,
   "metadata": {},
   "outputs": [],
   "source": [
    "import os\n",
    "import tarfile\n",
    "import pandas as pd\n",
    "import wget\n",
    "from pandas import DataFrame\n",
    "\n",
    "from functools import partial\n",
    "from typing import NamedTuple, Tuple\n",
    "\n",
    "\n",
    "DataMeta = NamedTuple('DataMeta', [\n",
    "    ('name', str), ('url', str)])\n",
    "\n",
    "_IMDB = DataMeta(\n",
    "    name='imdb',\n",
    "    url='https://www.dropbox.com/s/l9pj9hy2ans3phi/imdb.tar.gz?dl=1')\n",
    "\n",
    "\n",
    "def _download_data_if_needed(data_meta: DataMeta) -> str:\n",
    "    \"\"\"\n",
    "    Download and extract dataset if needed\n",
    "    return the path to the dataset\n",
    "    \"\"\"\n",
    "    path = os.path.join('resources', data_meta.name)\n",
    "    zip_path = path + '.tar.gz'\n",
    "\n",
    "    if os.path.exists(path):\n",
    "        print('data already available, skip downloading.')\n",
    "    else:\n",
    "        print('start downloading...')\n",
    "        wget.download(data_meta.url, zip_path)\n",
    "\n",
    "        print('start extracting compressed files...')\n",
    "        with tarfile.open(zip_path) as tar:\n",
    "            tar.extractall('resources')\n",
    "        os.remove(zip_path)\n",
    "\n",
    "        print('data files are now available at %s' % path)\n",
    "    return path\n",
    "\n",
    "\n",
    "def _get_train_test_df(data_meta: DataMeta) -> Tuple[DataFrame, DataFrame]:\n",
    "    path = _download_data_if_needed(data_meta)\n",
    "    train, test = tuple(\n",
    "        pd.read_csv(os.path.join(path, file))\n",
    "        for file in ['train.csv', 'test.csv'])\n",
    "    print('{} loaded successfully.'.format(data_meta.name))\n",
    "    return train, test\n",
    "\n",
    "\n",
    "get_imdb_dataset = partial(_get_train_test_df, _IMDB)"
   ]
  },
  {
   "cell_type": "code",
   "execution_count": 3,
   "metadata": {},
   "outputs": [
    {
     "name": "stdout",
     "output_type": "stream",
     "text": [
      "data already available, skip downloading.\n",
      "imdb loaded successfully.\n"
     ]
    }
   ],
   "source": [
    "train, test = get_imdb_dataset()"
   ]
  },
  {
   "cell_type": "code",
   "execution_count": 4,
   "metadata": {},
   "outputs": [
    {
     "data": {
      "text/html": [
       "<div>\n",
       "<style scoped>\n",
       "    .dataframe tbody tr th:only-of-type {\n",
       "        vertical-align: middle;\n",
       "    }\n",
       "\n",
       "    .dataframe tbody tr th {\n",
       "        vertical-align: top;\n",
       "    }\n",
       "\n",
       "    .dataframe thead th {\n",
       "        text-align: right;\n",
       "    }\n",
       "</style>\n",
       "<table border=\"1\" class=\"dataframe\">\n",
       "  <thead>\n",
       "    <tr style=\"text-align: right;\">\n",
       "      <th></th>\n",
       "      <th>text</th>\n",
       "      <th>sentiment</th>\n",
       "    </tr>\n",
       "  </thead>\n",
       "  <tbody>\n",
       "    <tr>\n",
       "      <td>19707</td>\n",
       "      <td>Chinese Ghost Story III is a totally superfluous sequel to two excellent fantasy films. The film delivers the spell-casting special effects that one can expect, but fails painfully on all other fronts. The actors all play extremely silly caricatures. You have to be still in diapers to find their slapstick humor even remotely funny. The plot is predictable, and the development is sometimes erratic and often slow. Towards the end, the movie begins to resemble old Godzilla films, including shab...</td>\n",
       "      <td>neg</td>\n",
       "    </tr>\n",
       "    <tr>\n",
       "      <td>16125</td>\n",
       "      <td>Wes Craven, you are having a laugh... at our expense. The Red Eye plot is preposterous... We are confronted by a guy who has apparently spent 8 weeks watching a girl, who then turns up at an airport behind her, flirts and chats her up successfully, somehow wangles a seat next to her in a two seat space, not trapped in the middle of a five seat row (contacts at check-in?) and is cheezily nice during a painfully slooooow build up. Then, once up in the air, in a confined space, surrounded by st...</td>\n",
       "      <td>neg</td>\n",
       "    </tr>\n",
       "    <tr>\n",
       "      <td>17994</td>\n",
       "      <td>This movie is likely the worst movie I've ever seen in my life -- surpassing the previous most god-awful movie, \"Spawn of Slithis,\" which I saw when I was about 10.&lt;br /&gt;&lt;br /&gt;Bad acting, stilted and ridiculous dialog, incomprehensible plot, mishmashed cut scenes, even the music was annoying. Did I leave anything out? Well, the special effects weren't bad -- but CGI does not a decent movie make.&lt;br /&gt;&lt;br /&gt;I can't believe I actually spent money to see this movie. If anyone has the contact in...</td>\n",
       "      <td>neg</td>\n",
       "    </tr>\n",
       "    <tr>\n",
       "      <td>19841</td>\n",
       "      <td>I enjoyed \"American Movie\", so I rented Chris Smith's first film, which I thought was a documentary too. In the first minute I saw that it wasn't, but I gave it a go.&lt;br /&gt;&lt;br /&gt;What a dead end film. Being true-to-life hardly serves you if you're merely going to examine tediousness, esp. tediousness that we're already familar with.&lt;br /&gt;&lt;br /&gt;I'm sorry, but will it come as a relevation to ANYONE that 1) a lot of jobs suck and 2) most of them are crappy, minimum wage jobs in the service secto...</td>\n",
       "      <td>neg</td>\n",
       "    </tr>\n",
       "    <tr>\n",
       "      <td>19189</td>\n",
       "      <td>Noel Coward,a witty and urbane man,was friends with Louis Mountbatten.Mr Coward,a long-time admirer of all things naval,was commissioned to write a story loosely based on the loss of Mountbatten's ship.In a peculiarly British way it was considered that a film about the Royal Navy losing an encounter at sea would be good propaganda.It was also considered a good idea to have Mr Coward play the part of the ship's captain.Amang the many qualities needed to command a fighting ship,the ability to ...</td>\n",
       "      <td>neg</td>\n",
       "    </tr>\n",
       "  </tbody>\n",
       "</table>\n",
       "</div>"
      ],
      "text/plain": [
       "                                                                                                                                                                                                                                                                                                                                                                                                                                                                                                                      text  \\\n",
       "19707  Chinese Ghost Story III is a totally superfluous sequel to two excellent fantasy films. The film delivers the spell-casting special effects that one can expect, but fails painfully on all other fronts. The actors all play extremely silly caricatures. You have to be still in diapers to find their slapstick humor even remotely funny. The plot is predictable, and the development is sometimes erratic and often slow. Towards the end, the movie begins to resemble old Godzilla films, including shab...   \n",
       "16125  Wes Craven, you are having a laugh... at our expense. The Red Eye plot is preposterous... We are confronted by a guy who has apparently spent 8 weeks watching a girl, who then turns up at an airport behind her, flirts and chats her up successfully, somehow wangles a seat next to her in a two seat space, not trapped in the middle of a five seat row (contacts at check-in?) and is cheezily nice during a painfully slooooow build up. Then, once up in the air, in a confined space, surrounded by st...   \n",
       "17994  This movie is likely the worst movie I've ever seen in my life -- surpassing the previous most god-awful movie, \"Spawn of Slithis,\" which I saw when I was about 10.<br /><br />Bad acting, stilted and ridiculous dialog, incomprehensible plot, mishmashed cut scenes, even the music was annoying. Did I leave anything out? Well, the special effects weren't bad -- but CGI does not a decent movie make.<br /><br />I can't believe I actually spent money to see this movie. If anyone has the contact in...   \n",
       "19841  I enjoyed \"American Movie\", so I rented Chris Smith's first film, which I thought was a documentary too. In the first minute I saw that it wasn't, but I gave it a go.<br /><br />What a dead end film. Being true-to-life hardly serves you if you're merely going to examine tediousness, esp. tediousness that we're already familar with.<br /><br />I'm sorry, but will it come as a relevation to ANYONE that 1) a lot of jobs suck and 2) most of them are crappy, minimum wage jobs in the service secto...   \n",
       "19189  Noel Coward,a witty and urbane man,was friends with Louis Mountbatten.Mr Coward,a long-time admirer of all things naval,was commissioned to write a story loosely based on the loss of Mountbatten's ship.In a peculiarly British way it was considered that a film about the Royal Navy losing an encounter at sea would be good propaganda.It was also considered a good idea to have Mr Coward play the part of the ship's captain.Amang the many qualities needed to command a fighting ship,the ability to ...   \n",
       "\n",
       "      sentiment  \n",
       "19707       neg  \n",
       "16125       neg  \n",
       "17994       neg  \n",
       "19841       neg  \n",
       "19189       neg  "
      ]
     },
     "execution_count": 4,
     "metadata": {},
     "output_type": "execute_result"
    }
   ],
   "source": [
    "# Get a sample (head) of the data frame\n",
    "train.sample(5)"
   ]
  },
  {
   "cell_type": "code",
   "execution_count": 5,
   "metadata": {},
   "outputs": [
    {
     "name": "stdout",
     "output_type": "stream",
     "text": [
      "train shape: (25000, 2)\n",
      "test  shape: (25000, 2)\n"
     ]
    }
   ],
   "source": [
    "print('train shape:', train.shape)\n",
    "print('test  shape:', test.shape)"
   ]
  },
  {
   "cell_type": "code",
   "execution_count": 6,
   "metadata": {},
   "outputs": [
    {
     "data": {
      "text/plain": [
       "neg    12500\n",
       "pos    12500\n",
       "Name: sentiment, dtype: int64"
      ]
     },
     "execution_count": 6,
     "metadata": {},
     "output_type": "execute_result"
    }
   ],
   "source": [
    "# Statics on tags\n",
    "train['sentiment'].value_counts()"
   ]
  },
  {
   "cell_type": "code",
   "execution_count": 7,
   "metadata": {},
   "outputs": [
    {
     "data": {
      "text/plain": [
       "neg    12500\n",
       "pos    12500\n",
       "Name: sentiment, dtype: int64"
      ]
     },
     "execution_count": 7,
     "metadata": {},
     "output_type": "execute_result"
    }
   ],
   "source": [
    "test['sentiment'].value_counts()"
   ]
  },
  {
   "cell_type": "markdown",
   "metadata": {},
   "source": [
    "## Preprocessing"
   ]
  },
  {
   "cell_type": "markdown",
   "metadata": {},
   "source": [
    "### Tokenization and Normalization\n",
    "\n",
    "For preprocessing, we will apply the following steps:\n",
    "\n",
    "1. Remove HTML tag (`<br />` in this case) from the review text\n",
    "2. Remove punctuations (replace with whitespace)\n",
    "3. Split review text into tokens\n",
    "4. Remove tokens that are considered as \"**stopwords**\"\n",
    "5. For the rest, do lemmatization"
   ]
  },
  {
   "cell_type": "code",
   "execution_count": 8,
   "metadata": {},
   "outputs": [],
   "source": [
    "import nltk\n",
    "import string"
   ]
  },
  {
   "cell_type": "code",
   "execution_count": 9,
   "metadata": {},
   "outputs": [],
   "source": [
    "transtbl = str.maketrans(string.punctuation, ' ' * len(string.punctuation))#translation table\n",
    "stopwords = nltk.corpus.stopwords.words('english')\n",
    "lemmatizer = nltk.WordNetLemmatizer()"
   ]
  },
  {
   "cell_type": "code",
   "execution_count": 10,
   "metadata": {},
   "outputs": [
    {
     "data": {
      "text/plain": [
       "['i', 'me', 'my', 'myself', 'we', 'our', 'ours', 'ourselves', 'you', \"you're\"]"
      ]
     },
     "execution_count": 10,
     "metadata": {},
     "output_type": "execute_result"
    }
   ],
   "source": [
    "stopwords[:10]"
   ]
  },
  {
   "cell_type": "code",
   "execution_count": 11,
   "metadata": {},
   "outputs": [
    {
     "data": {
      "text/plain": [
       "'!\"#$%&\\'()*+,-./:;<=>?@[\\\\]^_`{|}~'"
      ]
     },
     "execution_count": 11,
     "metadata": {},
     "output_type": "execute_result"
    }
   ],
   "source": [
    "string.punctuation"
   ]
  },
  {
   "cell_type": "code",
   "execution_count": 12,
   "metadata": {},
   "outputs": [
    {
     "data": {
      "text/plain": [
       "'dedef'"
      ]
     },
     "execution_count": 12,
     "metadata": {},
     "output_type": "execute_result"
    }
   ],
   "source": [
    "'ababc'.translate(str.maketrans('abc','def'))"
   ]
  },
  {
   "cell_type": "code",
   "execution_count": 13,
   "metadata": {},
   "outputs": [],
   "source": [
    "def preprocessing(line: str) -> str:\n",
    "    \"\"\"\n",
    "    Take a text input and return the preprocessed string.\n",
    "    i.e.: preprocessed tokens concatenated by whitespace\n",
    "    \"\"\"\n",
    "    line = line.replace('<br />', '').translate(transtbl)  #Remove html tags and punctuation\n",
    "    \n",
    "    # list\n",
    "    tokens = [lemmatizer.lemmatize(t.lower(),'v') #select   'v'=verbs works for both verb and noun: token after normlization\n",
    "              for t in nltk.word_tokenize(line)   #from : word in the line\n",
    "              if t.lower() not in stopwords]      #where : not in stopwords\n",
    "    \n",
    "    return ' '.join(tokens)"
   ]
  },
  {
   "cell_type": "code",
   "execution_count": 14,
   "metadata": {},
   "outputs": [
    {
     "data": {
      "text/plain": [
       "'buy several book yesterday really love'"
      ]
     },
     "execution_count": 14,
     "metadata": {},
     "output_type": "execute_result"
    }
   ],
   "source": [
    "test_str = \"I bought several books yesterday<br /> and I really love them!\"\n",
    "preprocessing(test_str)"
   ]
  },
  {
   "cell_type": "code",
   "execution_count": 15,
   "metadata": {},
   "outputs": [
    {
     "name": "stdout",
     "output_type": "stream",
     "text": [
      "showing info https://raw.githubusercontent.com/nltk/nltk_data/gh-pages/index.xml\n"
     ]
    },
    {
     "data": {
      "text/plain": [
       "True"
      ]
     },
     "execution_count": 15,
     "metadata": {},
     "output_type": "execute_result"
    }
   ],
   "source": [
    "nltk.download()"
   ]
  },
  {
   "cell_type": "code",
   "execution_count": 16,
   "metadata": {},
   "outputs": [
    {
     "name": "stderr",
     "output_type": "stream",
     "text": [
      "C:\\Users\\dhubi\\Anaconda3\\lib\\site-packages\\tqdm\\std.py:648: FutureWarning: The Panel class is removed from pandas. Accessing it from the top-level namespace will also be removed in the next version\n",
      "  from pandas import Panel\n"
     ]
    }
   ],
   "source": [
    "# from tqdm._tqdm_notebook import tqdm_notebook\n",
    "# tqdm_notebook.pandas()\n",
    "from tqdm import *\n",
    "tqdm.pandas()"
   ]
  },
  {
   "cell_type": "code",
   "execution_count": 17,
   "metadata": {},
   "outputs": [],
   "source": [
    "# If you're using macOS and Linux, you may run un-comment the following code to speed up the preprocessing\n",
    "\n",
    "# !pip install pandarallel\n",
    "# from pandarallel import pandarallel\n",
    "# pandarallel.initialize(progress_bar=True)"
   ]
  },
  {
   "cell_type": "code",
   "execution_count": 18,
   "metadata": {},
   "outputs": [
    {
     "name": "stderr",
     "output_type": "stream",
     "text": [
      "100%|██████████| 25000/25000 [00:49<00:00, 501.44it/s]\n",
      "100%|██████████| 25000/25000 [00:47<00:00, 531.52it/s]\n"
     ]
    }
   ],
   "source": [
    "# If you're using Windows, run the following, otherwise, comment this out, and run the second statement instead\n",
    "for df in train, test:\n",
    "    df['text_prep'] = df['text'].progress_apply(preprocessing)\n",
    "    \n",
    "# If you're using macOS or Linux, un-comment and run the following code\n",
    "# for df in train, test:\n",
    "#     df['text_prep'] = df['text'].parallel_apply(preprocessing)"
   ]
  },
  {
   "cell_type": "code",
   "execution_count": 19,
   "metadata": {},
   "outputs": [],
   "source": [
    "assert train.shape == (25000, 3)\n",
    "assert test.shape == (25000, 3)"
   ]
  },
  {
   "cell_type": "code",
   "execution_count": 20,
   "metadata": {},
   "outputs": [
    {
     "data": {
      "text/html": [
       "<div>\n",
       "<style scoped>\n",
       "    .dataframe tbody tr th:only-of-type {\n",
       "        vertical-align: middle;\n",
       "    }\n",
       "\n",
       "    .dataframe tbody tr th {\n",
       "        vertical-align: top;\n",
       "    }\n",
       "\n",
       "    .dataframe thead th {\n",
       "        text-align: right;\n",
       "    }\n",
       "</style>\n",
       "<table border=\"1\" class=\"dataframe\">\n",
       "  <thead>\n",
       "    <tr style=\"text-align: right;\">\n",
       "      <th></th>\n",
       "      <th>text</th>\n",
       "      <th>sentiment</th>\n",
       "      <th>text_prep</th>\n",
       "    </tr>\n",
       "  </thead>\n",
       "  <tbody>\n",
       "    <tr>\n",
       "      <td>16172</td>\n",
       "      <td>This was not a well done western. You've got this nut riding around in the blazing sun in a buggy with a parasol over it, killing people for his own reasons. You've got this same person sitting in a snow cave during a blizzard, cutting off pieces of his anatomy which have been frostbitten. Then you've got some woman in a house out in the middle of somewhere shooting wolves that are not there. What is the point of this film? Couldn't Bruce Dern find something better to do? This was a waste of...</td>\n",
       "      <td>neg</td>\n",
       "      <td>well do western get nut rid around blaze sun buggy parasol kill people reason get person sit snow cave blizzard cut piece anatomy frostbitten get woman house middle somewhere shoot wolves point film bruce dern find something better waste film</td>\n",
       "    </tr>\n",
       "    <tr>\n",
       "      <td>24300</td>\n",
       "      <td>Admittedly, I didn't have high expectations of \"Corky Romano.\" But then again, who did? However, I felt it deserved the benefit of the doubt. I had no high hopes of \"Joe Dirt\" either--another recent comedy starring an SNL cast member--and I ended up being pleasantly surprised. But this film is just as bad as it looks in the previews. Chris Kattan is actually a talented comic actor--contrary to what you might think after watching this movie--with great energy. He's been in many hilarious SNL ...</td>\n",
       "      <td>neg</td>\n",
       "      <td>admittedly high expectations corky romano however felt deserve benefit doubt high hop joe dirt either another recent comedy star snl cast member end pleasantly surprise film bad look preview chris kattan actually talented comic actor contrary might think watch movie great energy many hilarious snl skits think one talented cast members snl case give lame pointless script try remedy scene incessant mug throughout scene attempt lame jerry lewis act fail miserably jerry lewis know pull type phys...</td>\n",
       "    </tr>\n",
       "  </tbody>\n",
       "</table>\n",
       "</div>"
      ],
      "text/plain": [
       "                                                                                                                                                                                                                                                                                                                                                                                                                                                                                                                      text  \\\n",
       "16172  This was not a well done western. You've got this nut riding around in the blazing sun in a buggy with a parasol over it, killing people for his own reasons. You've got this same person sitting in a snow cave during a blizzard, cutting off pieces of his anatomy which have been frostbitten. Then you've got some woman in a house out in the middle of somewhere shooting wolves that are not there. What is the point of this film? Couldn't Bruce Dern find something better to do? This was a waste of...   \n",
       "24300  Admittedly, I didn't have high expectations of \"Corky Romano.\" But then again, who did? However, I felt it deserved the benefit of the doubt. I had no high hopes of \"Joe Dirt\" either--another recent comedy starring an SNL cast member--and I ended up being pleasantly surprised. But this film is just as bad as it looks in the previews. Chris Kattan is actually a talented comic actor--contrary to what you might think after watching this movie--with great energy. He's been in many hilarious SNL ...   \n",
       "\n",
       "      sentiment  \\\n",
       "16172       neg   \n",
       "24300       neg   \n",
       "\n",
       "                                                                                                                                                                                                                                                                                                                                                                                                                                                                                                                 text_prep  \n",
       "16172                                                                                                                                                                                                                                                                   well do western get nut rid around blaze sun buggy parasol kill people reason get person sit snow cave blizzard cut piece anatomy frostbitten get woman house middle somewhere shoot wolves point film bruce dern find something better waste film  \n",
       "24300  admittedly high expectations corky romano however felt deserve benefit doubt high hop joe dirt either another recent comedy star snl cast member end pleasantly surprise film bad look preview chris kattan actually talented comic actor contrary might think watch movie great energy many hilarious snl skits think one talented cast members snl case give lame pointless script try remedy scene incessant mug throughout scene attempt lame jerry lewis act fail miserably jerry lewis know pull type phys...  "
      ]
     },
     "execution_count": 20,
     "metadata": {},
     "output_type": "execute_result"
    }
   ],
   "source": [
    "train.sample(2)"
   ]
  },
  {
   "cell_type": "markdown",
   "metadata": {},
   "source": [
    "### Build Vocabulary\n",
    "\n",
    "Instead of using `CountVectorizer` (N-gram) provided by sklearn directly, we will build the vocabulary on our own, so that we have more control over it.\n",
    "\n",
    "<span style=\"color:red\">**Tips:**</span>\n",
    "\n",
    "We can only use words in training data for building vocabulary"
   ]
  },
  {
   "cell_type": "code",
   "execution_count": 21,
   "metadata": {},
   "outputs": [
    {
     "name": "stderr",
     "output_type": "stream",
     "text": [
      "100%|██████████| 25000/25000 [00:00<00:00, 49244.83it/s]\n"
     ]
    }
   ],
   "source": [
    "all_words = [w for text in tqdm(train['text_prep']) \n",
    "             for w in text.split()]"
   ]
  },
  {
   "cell_type": "code",
   "execution_count": 22,
   "metadata": {},
   "outputs": [
    {
     "name": "stdout",
     "output_type": "stream",
     "text": [
      "<FreqDist with 65081 samples and 3022531 outcomes>\n"
     ]
    }
   ],
   "source": [
    "# Use FreqDist to get count for each word\n",
    "voca = nltk.FreqDist(all_words)\n",
    "print(voca)"
   ]
  },
  {
   "cell_type": "code",
   "execution_count": 23,
   "metadata": {},
   "outputs": [
    {
     "data": {
      "text/plain": [
       "[('film', 48170),\n",
       " ('movie', 43912),\n",
       " ('one', 26747),\n",
       " ('make', 23538),\n",
       " ('like', 22335),\n",
       " ('see', 20773),\n",
       " ('get', 18108),\n",
       " ('time', 16143),\n",
       " ('good', 15124),\n",
       " ('character', 14153)]"
      ]
     },
     "execution_count": 23,
     "metadata": {},
     "output_type": "execute_result"
    }
   ],
   "source": [
    "voca.most_common(10)"
   ]
  },
  {
   "cell_type": "code",
   "execution_count": 24,
   "metadata": {},
   "outputs": [],
   "source": [
    "topwords = [word for word, _ in voca.most_common(10000)] #neither too big nor too small  kind of trade off"
   ]
  },
  {
   "cell_type": "markdown",
   "metadata": {},
   "source": [
    "### Vectorizer\n",
    "\n",
    "For this section, we will try two ways to do vectorization: **BoW** (1-gram) and **BoW with Tfidf Transformer**."
   ]
  },
  {
   "cell_type": "code",
   "execution_count": 25,
   "metadata": {},
   "outputs": [],
   "source": [
    "from sklearn.feature_extraction.text import (\n",
    "    CountVectorizer, \n",
    "    TfidfTransformer, \n",
    "    TfidfVectorizer,)"
   ]
  },
  {
   "cell_type": "code",
   "execution_count": 26,
   "metadata": {},
   "outputs": [
    {
     "data": {
      "text/plain": [
       "CountVectorizer(analyzer='word', binary=False, decode_error='strict',\n",
       "                dtype=<class 'numpy.int64'>, encoding='utf-8', input='content',\n",
       "                lowercase=True, max_df=1.0, max_features=None, min_df=1,\n",
       "                ngram_range=(1, 1), preprocessor=None, stop_words=None,\n",
       "                strip_accents=None, token_pattern='(?u)\\\\b\\\\w\\\\w+\\\\b',\n",
       "                tokenizer=None, vocabulary=None)"
      ]
     },
     "execution_count": 26,
     "metadata": {},
     "output_type": "execute_result"
    }
   ],
   "source": [
    "CountVectorizer() #bag of words"
   ]
  },
  {
   "cell_type": "markdown",
   "metadata": {},
   "source": [
    "### Tf–idf Transformer"
   ]
  },
  {
   "cell_type": "markdown",
   "metadata": {},
   "source": [
    "- Tf: Term-Frequency\n",
    "- idf: Inverse Document-Frequency\n",
    "- Tf-idf = $tf(t,d) \\times idf(t)$\n",
    "\n",
    "$$\n",
    "idf(t) = log{\\frac{1 + n_d}{1 + df(d, t)}} + 1\n",
    "$$\n",
    "\n",
    "![](http://www.onemathematicalcat.org/Math/Algebra_II_obj/Graphics/log_base_gt1.gif)"
   ]
  },
  {
   "cell_type": "markdown",
   "metadata": {},
   "source": [
    "> Sentence 1: The boy **love** the toy <br>\n",
    "> Sentence 2: The boy **hate** the toy"
   ]
  },
  {
   "cell_type": "code",
   "execution_count": 27,
   "metadata": {},
   "outputs": [
    {
     "data": {
      "text/plain": [
       "TfidfTransformer(norm='l2', smooth_idf=False, sublinear_tf=False, use_idf=True)"
      ]
     },
     "execution_count": 27,
     "metadata": {},
     "output_type": "execute_result"
    }
   ],
   "source": [
    "transformer = TfidfTransformer(smooth_idf=False) #tfidf add weigt to the important words whose frequency is low\n",
    "transformer"
   ]
  },
  {
   "cell_type": "code",
   "execution_count": 28,
   "metadata": {},
   "outputs": [
    {
     "data": {
      "text/plain": [
       "<6x3 sparse matrix of type '<class 'numpy.float64'>'\n",
       "\twith 9 stored elements in Compressed Sparse Row format>"
      ]
     },
     "execution_count": 28,
     "metadata": {},
     "output_type": "execute_result"
    }
   ],
   "source": [
    "counts = [[3, 0, 1],\n",
    "          [2, 0, 0],\n",
    "          [3, 0, 0],\n",
    "          [4, 0, 0],\n",
    "          [3, 2, 0],\n",
    "          [3, 0, 2]]\n",
    "tfidf = transformer.fit_transform(counts)\n",
    "tfidf"
   ]
  },
  {
   "cell_type": "code",
   "execution_count": 29,
   "metadata": {},
   "outputs": [
    {
     "data": {
      "text/plain": [
       "array([[0.81940995, 0.        , 0.57320793],\n",
       "       [1.        , 0.        , 0.        ],\n",
       "       [1.        , 0.        , 0.        ],\n",
       "       [1.        , 0.        , 0.        ],\n",
       "       [0.47330339, 0.88089948, 0.        ],\n",
       "       [0.58149261, 0.        , 0.81355169]])"
      ]
     },
     "execution_count": 29,
     "metadata": {},
     "output_type": "execute_result"
    }
   ],
   "source": [
    "tfidf.toarray()"
   ]
  },
  {
   "cell_type": "markdown",
   "metadata": {},
   "source": [
    "<span style=\"color:red\">**Tips:**</span>\n",
    "\n",
    "tf-idfs are computed slightly different in sklearn, where:\n",
    "\n",
    "$$\n",
    "idf(t) = log{\\frac{n_d}{1 + df(d, t)}}\n",
    "$$\n",
    "\n",
    "With `smooth_idf=True` set to `True`, the formula is:\n",
    "\n",
    "$$\n",
    "idf(t) = log{\\frac{n_d}{df(d, t)}} + 1\n",
    "$$\n",
    "\n",
    "\n",
    "It's always worth trying tfidf transformer for text classification problem. Since `CountVectorizer` and `TfidTransformer` are often chained together, sklearn also provide a class that combines the two steps together: `TfidfVectorizer`."
   ]
  },
  {
   "cell_type": "code",
   "execution_count": 30,
   "metadata": {},
   "outputs": [
    {
     "data": {
      "text/plain": [
       "TfidfVectorizer(analyzer='word', binary=False, decode_error='strict',\n",
       "                dtype=<class 'numpy.float64'>, encoding='utf-8',\n",
       "                input='content', lowercase=True, max_df=1.0, max_features=None,\n",
       "                min_df=1, ngram_range=(1, 1), norm='l2', preprocessor=None,\n",
       "                smooth_idf=True, stop_words=None, strip_accents=None,\n",
       "                sublinear_tf=False, token_pattern='(?u)\\\\b\\\\w\\\\w+\\\\b',\n",
       "                tokenizer=None, use_idf=True, vocabulary=None)"
      ]
     },
     "execution_count": 30,
     "metadata": {},
     "output_type": "execute_result"
    }
   ],
   "source": [
    "TfidfVectorizer()"
   ]
  },
  {
   "cell_type": "code",
   "execution_count": 31,
   "metadata": {},
   "outputs": [],
   "source": [
    "t_corpus = ['the boy love the toy', 'the boy hate the toy']"
   ]
  },
  {
   "cell_type": "code",
   "execution_count": 32,
   "metadata": {},
   "outputs": [
    {
     "data": {
      "text/plain": [
       "array([[1, 0, 1, 2, 1],\n",
       "       [1, 1, 0, 2, 1]], dtype=int64)"
      ]
     },
     "execution_count": 32,
     "metadata": {},
     "output_type": "execute_result"
    }
   ],
   "source": [
    "# Bag of words\n",
    "# Voc = ['boy', 'hate', 'love', 'the', 'toy']\n",
    "\n",
    "t_cnt_vec = CountVectorizer()\n",
    "t_cnt_vec.fit(' '.join(t_corpus).split())\n",
    "t_cnt_vec.transform(t_corpus).toarray()"
   ]
  },
  {
   "cell_type": "code",
   "execution_count": 33,
   "metadata": {},
   "outputs": [
    {
     "data": {
      "text/plain": [
       "array([[0.41508858, 0.        , 0.48828702, 0.6457389 , 0.41508858],\n",
       "       [0.41508858, 0.48828702, 0.        , 0.6457389 , 0.41508858]])"
      ]
     },
     "execution_count": 33,
     "metadata": {},
     "output_type": "execute_result"
    }
   ],
   "source": [
    "# Tfidf\n",
    "t_tfidf_vec = TfidfVectorizer()\n",
    "t_tfidf_vec.fit(' '.join(t_corpus).split())\n",
    "t_tfidf_vec.transform(t_corpus).toarray()"
   ]
  },
  {
   "cell_type": "markdown",
   "metadata": {},
   "source": [
    "### Vectorization / Featurization"
   ]
  },
  {
   "cell_type": "code",
   "execution_count": 34,
   "metadata": {},
   "outputs": [],
   "source": [
    "train_x, train_y = train['text_prep'], train['sentiment']\n",
    "test_x, test_y = test['text_prep'], test['sentiment']"
   ]
  },
  {
   "cell_type": "code",
   "execution_count": 35,
   "metadata": {},
   "outputs": [],
   "source": [
    "# Use topwords as vocabulary\n",
    "tf_vec = TfidfVectorizer(vocabulary=topwords)"
   ]
  },
  {
   "cell_type": "code",
   "execution_count": 36,
   "metadata": {},
   "outputs": [],
   "source": [
    "train_features = tf_vec.fit_transform(train_x)\n",
    "test_features = tf_vec.transform(test_x)"
   ]
  },
  {
   "cell_type": "code",
   "execution_count": 37,
   "metadata": {},
   "outputs": [],
   "source": [
    "assert train_features.shape == (25000, 10000)\n",
    "assert test_features.shape == (25000, 10000)"
   ]
  },
  {
   "cell_type": "code",
   "execution_count": 38,
   "metadata": {},
   "outputs": [
    {
     "data": {
      "text/plain": [
       "array([[0.        , 0.12884974, 0.        , ..., 0.        , 0.        ,\n",
       "        0.        ]])"
      ]
     },
     "execution_count": 38,
     "metadata": {},
     "output_type": "execute_result"
    }
   ],
   "source": [
    "train_features[0][:50].toarray()"
   ]
  },
  {
   "cell_type": "markdown",
   "metadata": {},
   "source": [
    "## Training\n",
    "\n",
    "### [Multinomial NB](http://scikit-learn.org/stable/modules/generated/sklearn.naive_bayes.MultinomialNB.html)\n",
    "\n",
    "The multinomial Naive Bayes classifier is suitable for **classification with discrete features** (e.g., word counts for text classification). The multinomial distribution normally requires integer feature counts. However, in practice, fractional counts such as tf-idf may also work."
   ]
  },
  {
   "cell_type": "code",
   "execution_count": 39,
   "metadata": {},
   "outputs": [],
   "source": [
    "from sklearn.naive_bayes import MultinomialNB"
   ]
  },
  {
   "cell_type": "code",
   "execution_count": 40,
   "metadata": {},
   "outputs": [
    {
     "data": {
      "text/plain": [
       "MultinomialNB(alpha=1.0, class_prior=None, fit_prior=True)"
      ]
     },
     "execution_count": 40,
     "metadata": {},
     "output_type": "execute_result"
    }
   ],
   "source": [
    "mnb_model = MultinomialNB()\n",
    "mnb_model"
   ]
  },
  {
   "cell_type": "code",
   "execution_count": 41,
   "metadata": {},
   "outputs": [
    {
     "name": "stdout",
     "output_type": "stream",
     "text": [
      "Wall time: 163 ms\n"
     ]
    },
    {
     "data": {
      "text/plain": [
       "MultinomialNB(alpha=1.0, class_prior=None, fit_prior=True)"
      ]
     },
     "execution_count": 41,
     "metadata": {},
     "output_type": "execute_result"
    }
   ],
   "source": [
    "%%time\n",
    "\n",
    "# Train Model\n",
    "mnb_model.fit(train_features, train_y)"
   ]
  },
  {
   "cell_type": "markdown",
   "metadata": {},
   "source": [
    "## Evaluation"
   ]
  },
  {
   "cell_type": "code",
   "execution_count": 42,
   "metadata": {},
   "outputs": [],
   "source": [
    "from sklearn import metrics"
   ]
  },
  {
   "cell_type": "code",
   "execution_count": 43,
   "metadata": {},
   "outputs": [
    {
     "name": "stdout",
     "output_type": "stream",
     "text": [
      "['neg' 'pos' 'pos' ... 'neg' 'neg' 'neg']\n"
     ]
    }
   ],
   "source": [
    "# Predict on test set\n",
    "pred = mnb_model.predict(test_features)\n",
    "print(pred)"
   ]
  },
  {
   "cell_type": "code",
   "execution_count": 44,
   "metadata": {},
   "outputs": [
    {
     "name": "stdout",
     "output_type": "stream",
     "text": [
      "Accuracy: 0.833120\n"
     ]
    }
   ],
   "source": [
    "print('Accuracy: %f' % metrics.accuracy_score(pred,test_y))"
   ]
  },
  {
   "cell_type": "markdown",
   "metadata": {},
   "source": [
    "<span style=\"color:red\">**Tips:**</span>\n",
    "\n",
    "It doesn't matter if you change the order of `pred` and `test_y` passed into `accuracy_score` since the metrics is symmetric. **However**, it is extremely important that you pass them in the correct order when you need to calculate per-class metrics like f-score."
   ]
  },
  {
   "cell_type": "code",
   "execution_count": 45,
   "metadata": {},
   "outputs": [
    {
     "name": "stdout",
     "output_type": "stream",
     "text": [
      "              precision    recall  f1-score   support\n",
      "\n",
      "         neg       0.81      0.87      0.84     12500\n",
      "         pos       0.86      0.80      0.83     12500\n",
      "\n",
      "    accuracy                           0.83     25000\n",
      "   macro avg       0.83      0.83      0.83     25000\n",
      "weighted avg       0.83      0.83      0.83     25000\n",
      "\n"
     ]
    }
   ],
   "source": [
    "# Pass in as keyword arguments to make sure the order is correct\n",
    "print(\n",
    "    metrics.classification_report(y_true=test_y, y_pred=pred))  #the results the negative recall is a little bit higher\n",
    "                                                                 #which means the model is likely to lable negative"
   ]
  },
  {
   "cell_type": "code",
   "execution_count": 46,
   "metadata": {},
   "outputs": [
    {
     "name": "stdout",
     "output_type": "stream",
     "text": [
      "              precision    recall  f1-score   support\n",
      "\n",
      "     class 0       0.50      1.00      0.67         1\n",
      "     class 1       0.00      0.00      0.00         1\n",
      "     class 2       1.00      0.67      0.80         3\n",
      "\n",
      "    accuracy                           0.60         5\n",
      "   macro avg       0.50      0.56      0.49         5\n",
      "weighted avg       0.70      0.60      0.61         5\n",
      "\n"
     ]
    }
   ],
   "source": [
    "# Example from sklearn documentation\n",
    "\n",
    "y_true = [0, 1, 2, 2, 2]\n",
    "y_pred = [0, 0, 2, 2, 1]\n",
    "target_names = ['class 0', 'class 1', 'class 2']\n",
    "print(metrics.classification_report(y_true, y_pred, target_names=target_names))"
   ]
  },
  {
   "cell_type": "markdown",
   "metadata": {},
   "source": [
    "## Predict new text"
   ]
  },
  {
   "cell_type": "code",
   "execution_count": 47,
   "metadata": {},
   "outputs": [],
   "source": [
    "def predict_new(prep_func,  # func for preprocessing\n",
    "                vec,        # vectorizer\n",
    "                model,      # model\n",
    "                text):      # text\n",
    "    \n",
    "    prep_text = prep_func(text)\n",
    "    features = vec.transform([prep_text])#only accept list\n",
    "    pred = model.predict(features)\n",
    "    return pred[0]  #only one sentence"
   ]
  },
  {
   "cell_type": "code",
   "execution_count": 48,
   "metadata": {},
   "outputs": [],
   "source": [
    "from functools import partial\n",
    "predict_new_p1 = partial(predict_new, preprocessing, tf_vec, mnb_model)"
   ]
  },
  {
   "cell_type": "code",
   "execution_count": 49,
   "metadata": {},
   "outputs": [
    {
     "data": {
      "text/plain": [
       "'pos'"
      ]
     },
     "execution_count": 49,
     "metadata": {},
     "output_type": "execute_result"
    }
   ],
   "source": [
    "predict_new_p1('It looks nice')"
   ]
  },
  {
   "cell_type": "markdown",
   "metadata": {},
   "source": [
    "## Tunning hyper parameters"
   ]
  },
  {
   "cell_type": "code",
   "execution_count": 50,
   "metadata": {},
   "outputs": [],
   "source": [
    "def train_with_n_topwords(n: int, tfidf=False) -> tuple:\n",
    "    \"\"\"\n",
    "    Train and get the accuracy with different model settings\n",
    "    Args:\n",
    "        n: number of features (top frequent words in the vocabulary)\n",
    "        tfidf: whether do tf-idf re-weighting or not\n",
    "    Outputs:\n",
    "        tuple: (accuracy score, classifier, vectorizer)\n",
    "    \"\"\"\n",
    "    topwords = [word for word, _ in voca.most_common(n)]\n",
    "    \n",
    "    if tfidf:\n",
    "        vec = TfidfVectorizer(vocabulary=topwords)\n",
    "    else:\n",
    "        vec = CountVectorizer(vocabulary=topwords)\n",
    "    \n",
    "    # Generate feature vectors\n",
    "    train_features = vec.fit_transform(train_x)\n",
    "    test_features  = vec.transform(test_x)\n",
    "    \n",
    "    # NB\n",
    "    mnb_model = MultinomialNB()\n",
    "    mnb_model.fit(train_features, train_y)\n",
    "    \n",
    "    # Test predict\n",
    "    pred = mnb_model.predict(test_features)\n",
    "    \n",
    "    return metrics.accuracy_score(pred, test_y), mnb_model, vec"
   ]
  },
  {
   "cell_type": "code",
   "execution_count": 51,
   "metadata": {},
   "outputs": [
    {
     "data": {
      "text/plain": [
       "(0.82496,\n",
       " MultinomialNB(alpha=1.0, class_prior=None, fit_prior=True),\n",
       " TfidfVectorizer(analyzer='word', binary=False, decode_error='strict',\n",
       "                 dtype=<class 'numpy.float64'>, encoding='utf-8',\n",
       "                 input='content', lowercase=True, max_df=1.0, max_features=None,\n",
       "                 min_df=1, ngram_range=(1, 1), norm='l2', preprocessor=None,\n",
       "                 smooth_idf=True, stop_words=None, strip_accents=None,\n",
       "                 sublinear_tf=False, token_pattern='(?u)\\\\b\\\\w\\\\w+\\\\b',\n",
       "                 tokenizer=None, use_idf=True,\n",
       "                 vocabulary=['film', 'movie', 'one', 'make', 'like', 'see',\n",
       "                             'get', 'time', 'good', 'character', 'go', 'watch',\n",
       "                             'even', 'would', 'think', 'story', 'really', 'well',\n",
       "                             'show', 'look', 'much', 'say', 'end', 'know',\n",
       "                             'people', 'bad', 'also', 'first', 'great', 'give', ...]))"
      ]
     },
     "execution_count": 51,
     "metadata": {},
     "output_type": "execute_result"
    }
   ],
   "source": [
    "train_with_n_topwords(500, tfidf=True)"
   ]
  },
  {
   "cell_type": "code",
   "execution_count": 52,
   "metadata": {},
   "outputs": [
    {
     "name": "stderr",
     "output_type": "stream",
     "text": [
      "100%|██████████| 19/19 [03:18<00:00, 10.46s/it]\n"
     ]
    }
   ],
   "source": [
    "possible_n = [500 * i for i in range(1, 20)]\n",
    "\n",
    "cnt_accuracies = []\n",
    "tfidf_accuracies = []\n",
    "\n",
    "for n in tqdm(possible_n):\n",
    "    cnt_accuracies.append(train_with_n_topwords(n)[0])\n",
    "    tfidf_accuracies.append(train_with_n_topwords(n, tfidf=True)[0])"
   ]
  },
  {
   "cell_type": "code",
   "execution_count": 53,
   "metadata": {},
   "outputs": [
    {
     "data": {
      "text/plain": [
       "[<matplotlib.lines.Line2D at 0x2cd13cb2288>]"
      ]
     },
     "execution_count": 53,
     "metadata": {},
     "output_type": "execute_result"
    },
    {
     "data": {
      "image/png": "[encoded data removed]",
      "text/plain": [
       "<Figure size 432x288 with 1 Axes>"
      ]
     },
     "metadata": {
      "image/png": {
       "height": 248,
       "width": 384
      },
      "needs_background": "light"
     },
     "output_type": "display_data"
    }
   ],
   "source": [
    "import matplotlib.pyplot as plt\n",
    "%matplotlib inline\n",
    "%config InlineBackend.figure_format='retina'\n",
    "\n",
    "plt.plot(possible_n, cnt_accuracies, label='Word Count')\n",
    "plt.plot(possible_n, tfidf_accuracies, label='Tf-idf')"
   ]
  },
  {
   "cell_type": "markdown",
   "metadata": {},
   "source": [
    "## Save model"
   ]
  },
  {
   "cell_type": "code",
   "execution_count": 54,
   "metadata": {},
   "outputs": [],
   "source": [
    "_, model, vec = train_with_n_topwords(3000, tfidf=True)"
   ]
  },
  {
   "cell_type": "code",
   "execution_count": 55,
   "metadata": {},
   "outputs": [],
   "source": [
    "import pickle"
   ]
  },
  {
   "cell_type": "code",
   "execution_count": 56,
   "metadata": {},
   "outputs": [],
   "source": [
    "with open('tf_vec.pkl', 'wb') as fp:\n",
    "    pickle.dump(vec, fp)\n",
    "    \n",
    "with open('mnb_model.pkl', 'wb') as fp:\n",
    "    pickle.dump(model, fp)\n",
    "with open('preprocessing_func.pkl', 'wb') as fp:\n",
    "    pickle.dump(preprocessing, fp)"
   ]
  },
  {
   "cell_type": "code",
   "execution_count": 57,
   "metadata": {},
   "outputs": [],
   "source": [
    "with open('preprocessing_func.pkl', 'rb') as fp:\n",
    "    loaded_prep=pickle.load(fp)"
   ]
  },
  {
   "cell_type": "code",
   "execution_count": 58,
   "metadata": {},
   "outputs": [
    {
     "data": {
      "text/plain": [
       "'buy several book yesterday really love'"
      ]
     },
     "execution_count": 58,
     "metadata": {},
     "output_type": "execute_result"
    }
   ],
   "source": [
    "loaded_prep(test_str)"
   ]
  },
  {
   "cell_type": "code",
   "execution_count": null,
   "metadata": {},
   "outputs": [],
   "source": []
  }
 ],
 "metadata": {
  "kernelspec": {
   "display_name": "Python 3",
   "language": "python",
   "name": "python3"
  },
  "language_info": {
   "codemirror_mode": {
    "name": "ipython",
    "version": 3
   },
   "file_extension": ".py",
   "mimetype": "text/x-python",
   "name": "python",
   "nbconvert_exporter": "python",
   "pygments_lexer": "ipython3",
   "version": "3.7.4"
  }
 },
 "nbformat": 4,
 "nbformat_minor": 2
}
